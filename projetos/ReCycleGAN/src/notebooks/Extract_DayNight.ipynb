{
 "cells": [
  {
   "cell_type": "markdown",
   "metadata": {},
   "source": [
    "# Extract DayNight Images\n",
    "\n",
    "Create DayNight database for model training."
   ]
  },
  {
   "cell_type": "code",
   "execution_count": 2,
   "metadata": {},
   "outputs": [],
   "source": [
    "import sys\n",
    "from pathlib import Path\n",
    "import pandas as pd\n",
    "\n",
    "current_dir = Path().resolve()\n",
    "sys.path.append(str(current_dir.parent))\n",
    "# from utils import ImageDataset, filter_dataframe, img_size_count, img_size_count_plot, resize_and_crop\n",
    "import utils"
   ]
  },
  {
   "cell_type": "code",
   "execution_count": 3,
   "metadata": {},
   "outputs": [
    {
     "data": {
      "text/html": [
       "<div>\n",
       "<style scoped>\n",
       "    .dataframe tbody tr th:only-of-type {\n",
       "        vertical-align: middle;\n",
       "    }\n",
       "\n",
       "    .dataframe tbody tr th {\n",
       "        vertical-align: top;\n",
       "    }\n",
       "\n",
       "    .dataframe thead th {\n",
       "        text-align: right;\n",
       "    }\n",
       "</style>\n",
       "<table border=\"1\" class=\"dataframe\">\n",
       "  <thead>\n",
       "    <tr style=\"text-align: right;\">\n",
       "      <th></th>\n",
       "      <th>image_filename</th>\n",
       "      <th>lighting</th>\n",
       "      <th>city</th>\n",
       "    </tr>\n",
       "  </thead>\n",
       "  <tbody>\n",
       "    <tr>\n",
       "      <th>0</th>\n",
       "      <td>frame_20f328fa-2459-46d0-97a5-5ae2d6103cb0_000...</td>\n",
       "      <td>Twilight</td>\n",
       "      <td>NYC</td>\n",
       "    </tr>\n",
       "    <tr>\n",
       "      <th>1</th>\n",
       "      <td>frame_927bde20-f97f-48c2-af30-f9127b6b32ce_000...</td>\n",
       "      <td>Day</td>\n",
       "      <td>NYC</td>\n",
       "    </tr>\n",
       "    <tr>\n",
       "      <th>2</th>\n",
       "      <td>frame_67012509-f3bd-4175-a9d2-565a7b6bb3c7_000...</td>\n",
       "      <td>Day</td>\n",
       "      <td>NYC</td>\n",
       "    </tr>\n",
       "    <tr>\n",
       "      <th>3</th>\n",
       "      <td>frame_bd043377-6fb8-407a-95e5-7deb1fbab13a_000...</td>\n",
       "      <td>Day</td>\n",
       "      <td>NYC</td>\n",
       "    </tr>\n",
       "    <tr>\n",
       "      <th>4</th>\n",
       "      <td>frame_4da1583b-58d0-4893-8149-54541191031d_000...</td>\n",
       "      <td>Day</td>\n",
       "      <td>NYC</td>\n",
       "    </tr>\n",
       "  </tbody>\n",
       "</table>\n",
       "</div>"
      ],
      "text/plain": [
       "                                      image_filename  lighting city\n",
       "0  frame_20f328fa-2459-46d0-97a5-5ae2d6103cb0_000...  Twilight  NYC\n",
       "1  frame_927bde20-f97f-48c2-af30-f9127b6b32ce_000...       Day  NYC\n",
       "2  frame_67012509-f3bd-4175-a9d2-565a7b6bb3c7_000...       Day  NYC\n",
       "3  frame_bd043377-6fb8-407a-95e5-7deb1fbab13a_000...       Day  NYC\n",
       "4  frame_4da1583b-58d0-4893-8149-54541191031d_000...       Day  NYC"
      ]
     },
     "execution_count": 3,
     "metadata": {},
     "output_type": "execute_result"
    }
   ],
   "source": [
    "labels_file_name = '../../no_sync/nexet/nexet/train.csv'\n",
    "\n",
    "df_labels = pd.read_csv(labels_file_name)\n",
    "df_labels.head(5)"
   ]
  },
  {
   "cell_type": "code",
   "execution_count": 4,
   "metadata": {},
   "outputs": [
    {
     "name": "stdout",
     "output_type": "stream",
     "text": [
      "There are 50001 files in the folder.\n"
     ]
    }
   ],
   "source": [
    "img_folder = '../../no_sync/nexet/nexet/nexet_2017_1/'\n",
    "\n",
    "img_folder = Path(img_folder)\n",
    "file_count = len([f for f in img_folder.iterdir() if f.is_file()])\n",
    "print(f'There are {file_count} files in the folder.')"
   ]
  },
  {
   "cell_type": "code",
   "execution_count": 5,
   "metadata": {},
   "outputs": [
    {
     "name": "stderr",
     "output_type": "stream",
     "text": [
      "100%|██████████| 50000/50000 [00:02<00:00, 21774.22it/s]\n"
     ]
    },
    {
     "data": {
      "image/png": "[encoded data removed]",
      "text/plain": [
       "<Figure size 400x300 with 1 Axes>"
      ]
     },
     "metadata": {},
     "output_type": "display_data"
    }
   ],
   "source": [
    "df_count = utils.img_size_count(img_folder)\n",
    "utils.img_size_count_plot(df_count, show=True)"
   ]
  },
  {
   "cell_type": "code",
   "execution_count": 6,
   "metadata": {},
   "outputs": [
    {
     "name": "stderr",
     "output_type": "stream",
     "text": [
      "100%|██████████| 4931/4931 [01:00<00:00, 81.48it/s]\n",
      "100%|██████████| 4449/4449 [00:50<00:00, 87.77it/s]\n"
     ]
    }
   ],
   "source": [
    "folders = {\n",
    "        'input_A': {'lighting':['Day'], 'city':['NYC']},\n",
    "        'input_B': {'lighting':['Night'], 'city':['NYC']},\n",
    "    }\n",
    "\n",
    "for out_folder, df_filter in folders.items():\n",
    "    img_list = utils.filter_dataframe(df_labels, df_filter)['image_filename']\n",
    "    utils.Images.build_dataset(\n",
    "        img_list=img_list,\n",
    "        img_folder=Path(img_folder),\n",
    "        output_folder=Path('../../data/external/nexet/') / out_folder,\n",
    "        transformation_function=utils.resize_and_crop,\n",
    "        transformation_params={'target_size':(256,256), 'size_filter':[(1280, 720)]},\n",
    "        split=0.8,\n",
    "        random_seed=42\n",
    "    )"
   ]
  }
 ],
 "metadata": {
  "kernelspec": {
   "display_name": ".venv",
   "language": "python",
   "name": "python3"
  },
  "language_info": {
   "codemirror_mode": {
    "name": "ipython",
    "version": 3
   },
   "file_extension": ".py",
   "mimetype": "text/x-python",
   "name": "python",
   "nbconvert_exporter": "python",
   "pygments_lexer": "ipython3",
   "version": "3.10.12"
  }
 },
 "nbformat": 4,
 "nbformat_minor": 2
}
